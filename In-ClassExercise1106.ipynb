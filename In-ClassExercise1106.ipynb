{
 "cells": [
  {
   "cell_type": "code",
   "execution_count": null,
   "metadata": {
    "colab": {
     "base_uri": "https://localhost:8080/"
    },
    "id": "V2fBHdThrsSa",
    "outputId": "661699a1-fd53-48f3-c779-080efd19b715"
   },
   "outputs": [],
   "source": [
    "!pwd"
   ]
  },
  {
   "cell_type": "code",
   "execution_count": null,
   "metadata": {
    "colab": {
     "base_uri": "https://localhost:8080/"
    },
    "id": "V2fBHdThrsSa",
    "outputId": "661699a1-fd53-48f3-c779-080efd19b715"
   },
   "outputs": [],
   "source": []
  },
  {
   "cell_type": "code",
   "execution_count": null,
   "metadata": {
    "colab": {
     "base_uri": "https://localhost:8080/"
    },
    "id": "V2fBHdThrsSa",
    "outputId": "661699a1-fd53-48f3-c779-080efd19b715"
   },
   "outputs": [],
   "source": []
  },
  {
   "cell_type": "markdown",
   "metadata": {
    "id": "DcJb_l8fjEC4"
   },
   "source": [
    "# **In-Class Activity 1**"
   ]
  },
  {
   "cell_type": "markdown",
   "metadata": {
    "id": "xiKFh1sTj8wC"
   },
   "source": [
    "## Problem: Power of Three\n",
    "\n",
    "[(This is a leetcode problem)](https://leetcode.com/problems/power-of-three/description/)\n",
    "\n",
    "Given an integer `n`, return `true` if it is a power of three. Otherwise, return `false`.\n",
    "\n",
    "An integer `n` is a power of three if there exists an integer `x` such that: $n == 3^x$\n",
    "\n",
    "### Example 1:\n",
    "- **Input**: `n = 27`\n",
    "- **Output**: `true`\n",
    "- **Explanation**: $27 = 3^3$\n",
    "\n",
    "### Example 2:\n",
    "- **Input**: `n = 0`\n",
    "- **Output**: `false`\n",
    "- **Explanation**: There is no `x` where $3^x = 0$.\n",
    "\n",
    "### Example 3:\n",
    "- **Input**: `n = -1`\n",
    "- **Output**: `false`\n",
    "- **Explanation**: There is no `x` where $3^x = (-1)$.\n",
    "\n",
    "### Constraints:\n",
    "- $-2^{31} \\leq n \\leq 2^{31} - 1$\n",
    "\n",
    "### Follow-up:\n",
    "Could you solve it without loops/recursion?"
   ]
  },
  {
   "cell_type": "code",
   "execution_count": null,
   "metadata": {},
   "outputs": [],
   "source": [
    "class Solution:\n",
    "    def isPowerOfThree(self, n: int) -> bool:\n",
    "        while n > 2:\n",
    "            if n % 3:\n",
    "                return False\n",
    "            n //= 3\n",
    "        return n == 1"
   ]
  },
  {
   "cell_type": "code",
   "execution_count": null,
   "metadata": {},
   "outputs": [],
   "source": []
  },
  {
   "cell_type": "code",
   "execution_count": null,
   "metadata": {},
   "outputs": [],
   "source": []
  },
  {
   "cell_type": "markdown",
   "metadata": {},
   "source": [
    "# **In-Class Activity 2**"
   ]
  },
  {
   "cell_type": "markdown",
   "metadata": {},
   "source": [
    "## Problem: Two Sum \n",
    "\n",
    "[(This is a leetcode problem)](https://leetcode.com/problems/two-sum/description/)\n",
    "\n",
    "Given an array of integers `nums` and an integer `target`, return the **indices of the two numbers** such that they add up to the `target`.\n",
    "\n",
    "You may assume that each input would have **exactly one solution**, and you may not use the same element twice.\n",
    "\n",
    "You can return the answer in any order.\n",
    "\n",
    "### Example 1:\n",
    "- **Input**: `nums = [2, 7, 11, 15]`, `target = 9`\n",
    "- **Output**: `[0, 1]`\n",
    "- **Explanation**: Because `nums[0] + nums[1] == 9`, we return `[0, 1]`.\n",
    "\n",
    "### Example 2:\n",
    "- **Input**: `nums = [3, 2, 4]`, `target = 6`\n",
    "- **Output**: `[1, 2]`\n",
    "\n",
    "### Example 3:\n",
    "- **Input**: `nums = [3, 3]`, `target = 6`\n",
    "- **Output**: `[0, 1]`\n",
    "\n",
    "### Constraints:\n",
    "- $2 \\leq \\text{nums.length} \\leq 10^4$\n",
    "- $-10^9 \\leq \\text{nums[i]} \\leq 10^9$\n",
    "- $-10^9 \\leq \\text{target} \\leq 10^9$\n",
    "- **Only one valid answer exists.**\n",
    "\n",
    "### Follow-up:\n",
    "Can you come up with an algorithm that is less than \\( O(n^2) \\) time complexity?"
   ]
  },
  {
   "cell_type": "code",
   "execution_count": null,
   "metadata": {},
   "outputs": [],
   "source": []
  },
  {
   "cell_type": "code",
   "execution_count": null,
   "metadata": {},
   "outputs": [],
   "source": []
  },
  {
   "cell_type": "code",
   "execution_count": null,
   "metadata": {},
   "outputs": [],
   "source": []
  },
  {
   "cell_type": "markdown",
   "metadata": {},
   "source": [
    "# **In-Class Activity 3**"
   ]
  },
  {
   "cell_type": "markdown",
   "metadata": {},
   "source": [
    "## Problem: Binary Search\n",
    "\n",
    "[(This is a leetcode problem)](https://leetcode.com/problems/binary-search/description/)\n",
    "\n",
    "Given an array of integers `nums` which is sorted in ascending order, and an integer `target`, write a function to search for `target` in `nums`. If the `target` exists, return its index. Otherwise, return `-1`.\n",
    "\n",
    "You must write an algorithm with `O(log n)` runtime complexity.\n",
    "\n",
    "### Example 1:\n",
    "- **Input**: `nums = [-1,0,3,5,9,12]`, `target = 9`\n",
    "- **Output**: `4`\n",
    "- **Explanation**: 9 exists in `nums` and its index is 4.\n",
    "\n",
    "### Example 2:\n",
    "- **Input**: `nums = [-1,0,3,5,9,12]`, `target = 2`\n",
    "- **Output**: `-1`\n",
    "- **Explanation**: 2 does not exist in `nums` so return `-1`.\n",
    "\n",
    "### Constraints:\n",
    "- $1 \\leq \\text{nums.length} \\leq 10^4$\n",
    "- $-10^4 < \\text{nums[i]}, \\text{target} < 10^4$\n",
    "- All integers in `nums` are unique.\n",
    "- `nums` is sorted in ascending order."
   ]
  },
  {
   "cell_type": "code",
   "execution_count": null,
   "metadata": {},
   "outputs": [],
   "source": []
  },
  {
   "cell_type": "code",
   "execution_count": null,
   "metadata": {},
   "outputs": [],
   "source": []
  },
  {
   "cell_type": "code",
   "execution_count": null,
   "metadata": {},
   "outputs": [],
   "source": []
  },
  {
   "cell_type": "markdown",
   "metadata": {},
   "source": [
    "# **In-Class Activity 4**"
   ]
  },
  {
   "cell_type": "markdown",
   "metadata": {},
   "source": [
    "## Problem: Merge Sorted Array\n",
    "\n",
    "[(This is a leetcode problem)](https://leetcode.com/problems/merge-sorted-array/description/)\n",
    "\n",
    "You are given two integer arrays `nums1` and `nums2`, sorted in non-decreasing order, and two integers `m` and `n`, representing the number of elements in `nums1` and `nums2` respectively.\n",
    "\n",
    "Merge `nums1` and `nums2` into a single array sorted in non-decreasing order.\n",
    "\n",
    "The final sorted array should not be returned by the function, but instead be stored inside the array `nums1`. To accommodate this, `nums1` has a length of `m + n`, where the first `m` elements denote the elements that should be merged, and the last `n` elements are set to `0` and should be ignored. `nums2` has a length of `n`.\n",
    "\n",
    "### Example 1:\n",
    "- **Input**: `nums1 = [1,2,3,0,0,0]`, `m = 3`, `nums2 = [2,5,6]`, `n = 3`\n",
    "- **Output**: `[1,2,2,3,5,6]`\n",
    "- **Explanation**: The arrays we are merging are [1,2,3] and [2,5,6]. The result of the merge is [1,2,2,3,5,6] with the underlined elements coming from nums1.\n",
    "\n",
    "### Example 2:\n",
    "- **Input**: `nums1 = [1]`, `m = 1`, `nums2 = []`, `n = 0`\n",
    "- **Output**: `[1]`\n",
    "- **Explanation**: The arrays we are merging are [1] and [].\n",
    "The result of the merge is [1].\n",
    "\n",
    "### Example 2:\n",
    "- **Input**: `nums1 = [0]`, `m = 0`, `nums2 = [1]`, `n = 1`\n",
    "- **Output**: `[1]`\n",
    "- **Explanation**: The arrays we are merging are [] and [1].\n",
    "The result of the merge is [1].\n",
    "Note that because `m = 0`, there are no elements in `nums1`. The 0 is only there to ensure the merge result can fit in `nums1`.\n",
    "\n",
    "### Constraints:\n",
    "- `nums1.length == m + n`\n",
    "- `nums2.length == n`\n",
    "- `0 <= m, n <= 200`\n",
    "- `1 <= m + n <= 200`\n",
    "- $-10^9$ <= nums1[i], nums2[j] <= $10^9$"
   ]
  },
  {
   "cell_type": "code",
   "execution_count": null,
   "metadata": {},
   "outputs": [],
   "source": []
  }
 ],
 "metadata": {
  "colab": {
   "collapsed_sections": [
    "TLMt4Dz_rvKM",
    "CPsbhaSI4mX0",
    "bndvXBtjVJOL",
    "rrKguy7qYJCH",
    "KWQYN3tpIsrw",
    "Qr3zLEfxTLlW",
    "oIjJCywdINC-",
    "8eL6dJd_N9M4",
    "u5vqKJrLNC6V",
    "y7tcQBj7bM7C",
    "xfMx60mxiMtb",
    "3QWblPkwk52S",
    "RRP5tHrzj_jI",
    "E69mZP8forlS",
    "nubp-cdnsUAl",
    "GB4wA2-_snYc",
    "1mByPmXFuAnZ",
    "z41_Wvdcvm4u",
    "wV_MhEluxDSI",
    "GR2uWvrD1692",
    "hfuYuplh5NPl",
    "pshzblPhrPbG",
    "u4nwKdEWEQ_K",
    "kdu5YZMSFITU"
   ],
   "gpuType": "T4",
   "provenance": []
  },
  "kernelspec": {
   "display_name": "Python 3 (ipykernel)",
   "language": "python",
   "name": "python3"
  },
  "language_info": {
   "codemirror_mode": {
    "name": "ipython",
    "version": 3
   },
   "file_extension": ".py",
   "mimetype": "text/x-python",
   "name": "python",
   "nbconvert_exporter": "python",
   "pygments_lexer": "ipython3",
   "version": "3.12.5"
  }
 },
 "nbformat": 4,
 "nbformat_minor": 4
}
